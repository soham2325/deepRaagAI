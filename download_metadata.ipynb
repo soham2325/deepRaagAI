{
 "cells": [
  {
   "cell_type": "code",
   "execution_count": 4,
   "id": "453e6050",
   "metadata": {},
   "outputs": [],
   "source": [
    "import os"
   ]
  },
  {
   "cell_type": "code",
   "execution_count": 2,
   "id": "a3a5c2db",
   "metadata": {},
   "outputs": [],
   "source": [
    "from selenium import webdriver\n",
    "import pandas as pd\n",
    "import time\n",
    "#import logging\n",
    "#logging.basicConfig(filename='YT_scraping_log.log',level=logging.DEBUG,format='%(asctime)s.%(msecs)03d %(levelname)s %(module)s - %(funcName)s: %(message)s',datefmt='%Y-%m-%d %H:%M',)\n",
    "\n",
    "def prepare_dataframe(a,b,c,d):\n",
    "    df = pd.DataFrame({'urls':c,'title':a,'details':b, 'channel':d})\n",
    "    #df['duration'] = df['details'].str.extract('([0-9]* hour{1}s{0,1}| [0-9]* hour{1}s{0,1}, [0-9]* minute{1}s{0,1} |[0-9]* minute{1}s{0,1})')\n",
    "    df['ytkey'] = df['urls'].str[-11:]\n",
    "    df['hours'] = df['details'].str.extract('([0-9]*) hour{1}s{0,1}').fillna(0).astype('int')\n",
    "    df['minutes'] = df['details'].str.extract('([0-9]*) minute{1}s{0,1}').fillna(0).astype('int')\n",
    "    df['views'] = df['details'].str.extract('([0-9]*,*[0-9]*) views')\n",
    "    df['views'] = df['views'].str.replace(',',\"\").astype('int')\n",
    "    df['age_years']=df['details'].str.extract('([0-9]*) year{1}s{0,1} ago').fillna(0).astype('int')\n",
    "    df['age_months']=df['details'].str.extract('([0-9]*) month{1}s{0,1} ago').fillna(0).astype('int')\n",
    "    return df\n",
    "\n",
    "def scrape_metadata_from_youtube(textToSearch='Ahir Bhairav', maxheight=15000):\n",
    "    textToSearch = textToSearch.replace(\" \", \"+\")\n",
    "    print(\"Quering \", textToSearch)\n",
    "    url = \"https://www.youtube.com/results?search_query={}&sp=EgIQAQ%253D%253D\".format(textToSearch)\n",
    "    print(\"URL to fetch: \", url)\n",
    "    t0 = time.time()\n",
    "    driver = webdriver.Chrome()\n",
    "    driver.get(url)\n",
    "    height = driver.execute_script(\"return document.documentElement.scrollHeight\")\n",
    "    lastheight = 0\n",
    "    while True:\n",
    "        if lastheight > maxheight:\n",
    "            break\n",
    "        lastheight = height\n",
    "        driver.execute_script(\"window.scrollTo(0, \" + str(height) + \");\")\n",
    "        time.sleep(4)\n",
    "        height = driver.execute_script(\"return document.documentElement.scrollHeight\")\n",
    "\n",
    "    user_data = driver.find_elements_by_xpath('//*[@id=\"video-title\"]')\n",
    "    channel_data = driver.find_elements_by_xpath('//*[@id=\"text\"]/a')\n",
    "    channel_list = [x.text for x in channel_data][1::2]\n",
    "\n",
    "    details_list = [i.get_attribute('aria-label') for i in user_data]\n",
    "    url_list = [i.get_attribute('href') for i in user_data]\n",
    "    title_list = [i.get_attribute('title') for i in user_data]\n",
    "    #logging.debug(f'Search Key: {textToSearch}')\n",
    "    #logging.debug('Total Time taken:{}s'.format(time.time() - t0))\n",
    "    #logging.debug('No. of Records scraped: ', len(user_data))\n",
    "    data = prepare_dataframe(title_list, details_list, url_list, channel_list)\n",
    "    data['search_key'] = textToSearch\n",
    "    # [title_list, details_list, url_list, channel_list]\n",
    "    return data"
   ]
  },
  {
   "cell_type": "code",
   "execution_count": 3,
   "id": "56c40338",
   "metadata": {},
   "outputs": [],
   "source": [
    "directory_list = {'yaman'}"
   ]
  },
  {
   "cell_type": "code",
   "execution_count": null,
   "id": "26ed657d",
   "metadata": {},
   "outputs": [],
   "source": [
    "os.makedirs(model_dir,exist_ok = True)"
   ]
  },
  {
   "cell_type": "code",
   "execution_count": 7,
   "id": "be667244",
   "metadata": {},
   "outputs": [
    {
     "name": "stdout",
     "output_type": "stream",
     "text": [
      "Quering  raag+yaman\n",
      "URL to fetch:  https://www.youtube.com/results?search_query=raag+yaman&sp=EgIQAQ%253D%253D\n",
      "Quering  raag+ahirbhairav\n",
      "URL to fetch:  https://www.youtube.com/results?search_query=raag+ahirbhairav&sp=EgIQAQ%253D%253D\n"
     ]
    }
   ],
   "source": [
    "for raag in directory_list:\n",
    "    query = 'raag ' + raag\n",
    "    data = scrape_metadata_from_youtube(query,15000)\n",
    "    os.makedirs(raag,exist_ok = True)\n",
    "    raag_dir = raag\n",
    "    filename = query+\"_metadata.csv\"\n",
    "    file_path = os.path.join(raag_dir,file_path)\n",
    "    data.to_csv(file_path,index = False)\n",
    "    "
   ]
  }
 ],
 "metadata": {
  "kernelspec": {
   "display_name": "Python 3 (ipykernel)",
   "language": "python",
   "name": "python3"
  },
  "language_info": {
   "codemirror_mode": {
    "name": "ipython",
    "version": 3
   },
   "file_extension": ".py",
   "mimetype": "text/x-python",
   "name": "python",
   "nbconvert_exporter": "python",
   "pygments_lexer": "ipython3",
   "version": "3.8.8"
  }
 },
 "nbformat": 4,
 "nbformat_minor": 5
}
