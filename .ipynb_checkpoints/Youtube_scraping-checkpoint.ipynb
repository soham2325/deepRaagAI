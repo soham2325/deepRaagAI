{
 "cells": [
  {
   "cell_type": "code",
   "execution_count": 1,
   "id": "f45d82dd",
   "metadata": {},
   "outputs": [],
   "source": [
    "import sys, unittest, time, datetime\n",
    "import urllib.request, urllib.error, urllib.parse\n",
    "from selenium import webdriver\n",
    "from selenium.webdriver.common.by import By\n",
    "from selenium.webdriver.support.ui import WebDriverWait\n",
    "from selenium.webdriver.support import expected_conditions as EC\n",
    "from selenium.common.exceptions import InvalidArgumentException\n",
    "\n",
    "import pandas as pd\n",
    "import numpy as np\n",
    "import time\n",
    "import re\n",
    "import logging\n",
    "\n",
    "logging.basicConfig(filename='YT_scraping_log.log',level=logging.DEBUG,format='%(asctime)s.%(msecs)03d %(levelname)s %(module)s - %(funcName)s: %(message)s',datefmt='%Y-%m-%d %H:%M',)"
   ]
  },
  {
   "cell_type": "code",
   "execution_count": 2,
   "id": "bf355d80",
   "metadata": {},
   "outputs": [],
   "source": [
    "def scrape_metadata_from_youtube(textToSearch = 'Ahir Bhairav',maxheight=15000):\n",
    "    textToSearch  = textToSearch.replace(\" \",\"+\")\n",
    "    print(\"Quering \",textToSearch)\n",
    "    url = \"https://www.youtube.com/results?search_query={}&sp=EgIQAQ%253D%253D\".format(textToSearch)\n",
    "    print(\"URL to fetch: \",url)\n",
    "    t0 = time.time()\n",
    "    driver=webdriver.Chrome()\n",
    "    driver.get(url)\n",
    "    height = driver.execute_script(\"return document.documentElement.scrollHeight\")\n",
    "    lastheight = 0\n",
    "    while True:\n",
    "        if lastheight > maxheight:\n",
    "            break\n",
    "        lastheight = height\n",
    "        driver.execute_script(\"window.scrollTo(0, \" + str(height) + \");\")\n",
    "        time.sleep(4)\n",
    "        height = driver.execute_script(\"return document.documentElement.scrollHeight\")\n",
    "    \n",
    "    user_data = driver.find_elements_by_xpath('//*[@id=\"video-title\"]')\n",
    "    channel_data = driver.find_elements_by_xpath('//*[@id=\"text\"]/a')\n",
    "    channel_list = [x.text for x in channel_data][1::2]\n",
    "    \n",
    "    details_list = [i.get_attribute('aria-label') for i in user_data]\n",
    "    url_list = [i.get_attribute('href') for i in user_data]\n",
    "    title_list = [i.get_attribute('title') for i in user_data]\n",
    "    logging.debug(f'Search Key: {textToSearch}')\n",
    "    logging.debug('Total Time taken:{}s'.format(time.time() - t0))\n",
    "    logging.debug('No. of Records scraped: ', len(user_data))\n",
    "    data = prepare_dataframe(title_list , details_list , url_list)\n",
    "    return data , [title_list , details_list , url_list]"
   ]
  },
  {
   "cell_type": "code",
   "execution_count": 3,
   "id": "170dd384",
   "metadata": {},
   "outputs": [],
   "source": [
    "def prepare_dataframe(a,b,c):\n",
    "    df = pd.DataFrame({'urls':c,'title':a,'details':b})\n",
    "    #df['duration'] = df['details'].str.extract('([0-9]* hour{1}s{0,1}| [0-9]* hour{1}s{0,1}, [0-9]* minute{1}s{0,1} |[0-9]* minute{1}s{0,1})')\n",
    "    df['ytkey'] = df['urls'].str[-11:]\n",
    "    df['hours'] = df['details'].str.extract('([0-9]*) hour{1}s{0,1}').fillna(0).astype('int')\n",
    "    df['minutes'] = df['details'].str.extract('([0-9]*) minute{1}s{0,1}').fillna(0).astype('int')\n",
    "    df['views'] = df['details'].str.extract('([0-9]*,*[0-9]*) views')\n",
    "    df['views'] = df['views'].str.replace(',',\"\").astype('int')\n",
    "    df['age_years']=df['details'].str.extract('([0-9]*) year{1}s{0,1} ago').fillna(0).astype('int')\n",
    "    df['age_months']=df['details'].str.extract('([0-9]*) month{1}s{0,1} ago').fillna(0).astype('int')\n",
    "    return df"
   ]
  },
  {
   "cell_type": "code",
   "execution_count": 4,
   "id": "41c8a19b",
   "metadata": {
    "collapsed": true
   },
   "outputs": [
    {
     "name": "stdout",
     "output_type": "stream",
     "text": [
      "Quering  raag+kedar\n",
      "URL to fetch:  https://www.youtube.com/results?search_query=raag+kedar&sp=EgIQAQ%253D%253D\n"
     ]
    },
    {
     "name": "stderr",
     "output_type": "stream",
     "text": [
      "--- Logging error ---\n",
      "Traceback (most recent call last):\n",
      "  File \"c:\\users\\soham\\.conda\\envs\\deepraagai\\lib\\logging\\__init__.py\", line 1081, in emit\n",
      "    msg = self.format(record)\n",
      "  File \"c:\\users\\soham\\.conda\\envs\\deepraagai\\lib\\logging\\__init__.py\", line 925, in format\n",
      "    return fmt.format(record)\n",
      "  File \"c:\\users\\soham\\.conda\\envs\\deepraagai\\lib\\logging\\__init__.py\", line 664, in format\n",
      "    record.message = record.getMessage()\n",
      "  File \"c:\\users\\soham\\.conda\\envs\\deepraagai\\lib\\logging\\__init__.py\", line 369, in getMessage\n",
      "    msg = msg % self.args\n",
      "TypeError: not all arguments converted during string formatting\n",
      "Call stack:\n",
      "  File \"c:\\users\\soham\\.conda\\envs\\deepraagai\\lib\\runpy.py\", line 194, in _run_module_as_main\n",
      "    return _run_code(code, main_globals, None,\n",
      "  File \"c:\\users\\soham\\.conda\\envs\\deepraagai\\lib\\runpy.py\", line 87, in _run_code\n",
      "    exec(code, run_globals)\n",
      "  File \"c:\\users\\soham\\.conda\\envs\\deepraagai\\lib\\site-packages\\ipykernel_launcher.py\", line 16, in <module>\n",
      "    app.launch_new_instance()\n",
      "  File \"c:\\users\\soham\\.conda\\envs\\deepraagai\\lib\\site-packages\\traitlets\\config\\application.py\", line 846, in launch_instance\n",
      "    app.start()\n",
      "  File \"c:\\users\\soham\\.conda\\envs\\deepraagai\\lib\\site-packages\\ipykernel\\kernelapp.py\", line 677, in start\n",
      "    self.io_loop.start()\n",
      "  File \"c:\\users\\soham\\.conda\\envs\\deepraagai\\lib\\site-packages\\tornado\\platform\\asyncio.py\", line 199, in start\n",
      "    self.asyncio_loop.run_forever()\n",
      "  File \"c:\\users\\soham\\.conda\\envs\\deepraagai\\lib\\asyncio\\base_events.py\", line 570, in run_forever\n",
      "    self._run_once()\n",
      "  File \"c:\\users\\soham\\.conda\\envs\\deepraagai\\lib\\asyncio\\base_events.py\", line 1859, in _run_once\n",
      "    handle._run()\n",
      "  File \"c:\\users\\soham\\.conda\\envs\\deepraagai\\lib\\asyncio\\events.py\", line 81, in _run\n",
      "    self._context.run(self._callback, *self._args)\n",
      "  File \"c:\\users\\soham\\.conda\\envs\\deepraagai\\lib\\site-packages\\ipykernel\\kernelbase.py\", line 457, in dispatch_queue\n",
      "    await self.process_one()\n",
      "  File \"c:\\users\\soham\\.conda\\envs\\deepraagai\\lib\\site-packages\\ipykernel\\kernelbase.py\", line 446, in process_one\n",
      "    await dispatch(*args)\n",
      "  File \"c:\\users\\soham\\.conda\\envs\\deepraagai\\lib\\site-packages\\ipykernel\\kernelbase.py\", line 353, in dispatch_shell\n",
      "    await result\n",
      "  File \"c:\\users\\soham\\.conda\\envs\\deepraagai\\lib\\site-packages\\ipykernel\\kernelbase.py\", line 648, in execute_request\n",
      "    reply_content = await reply_content\n",
      "  File \"c:\\users\\soham\\.conda\\envs\\deepraagai\\lib\\site-packages\\ipykernel\\ipkernel.py\", line 353, in do_execute\n",
      "    res = shell.run_cell(code, store_history=store_history, silent=silent)\n",
      "  File \"c:\\users\\soham\\.conda\\envs\\deepraagai\\lib\\site-packages\\ipykernel\\zmqshell.py\", line 533, in run_cell\n",
      "    return super(ZMQInteractiveShell, self).run_cell(*args, **kwargs)\n",
      "  File \"c:\\users\\soham\\.conda\\envs\\deepraagai\\lib\\site-packages\\IPython\\core\\interactiveshell.py\", line 2898, in run_cell\n",
      "    result = self._run_cell(\n",
      "  File \"c:\\users\\soham\\.conda\\envs\\deepraagai\\lib\\site-packages\\IPython\\core\\interactiveshell.py\", line 2944, in _run_cell\n",
      "    return runner(coro)\n",
      "  File \"c:\\users\\soham\\.conda\\envs\\deepraagai\\lib\\site-packages\\IPython\\core\\async_helpers.py\", line 68, in _pseudo_sync_runner\n",
      "    coro.send(None)\n",
      "  File \"c:\\users\\soham\\.conda\\envs\\deepraagai\\lib\\site-packages\\IPython\\core\\interactiveshell.py\", line 3169, in run_cell_async\n",
      "    has_raised = await self.run_ast_nodes(code_ast.body, cell_name,\n",
      "  File \"c:\\users\\soham\\.conda\\envs\\deepraagai\\lib\\site-packages\\IPython\\core\\interactiveshell.py\", line 3361, in run_ast_nodes\n",
      "    if (await self.run_code(code, result,  async_=asy)):\n",
      "  File \"c:\\users\\soham\\.conda\\envs\\deepraagai\\lib\\site-packages\\IPython\\core\\interactiveshell.py\", line 3441, in run_code\n",
      "    exec(code_obj, self.user_global_ns, self.user_ns)\n",
      "  File \"C:\\Users\\soham\\AppData\\Local\\Temp/ipykernel_19600/3559938433.py\", line 1, in <module>\n",
      "    data , details = scrape_metadata_from_youtube('raag kedar',5000)\n",
      "  File \"C:\\Users\\soham\\AppData\\Local\\Temp/ipykernel_19600/4213954197.py\", line 26, in scrape_metadata_from_youtube\n",
      "    logging.debug('No. of Records scraped: ', len(user_data))\n",
      "Message: 'No. of Records scraped: '\n",
      "Arguments: (59,)\n"
     ]
    }
   ],
   "source": [
    "data , details = scrape_metadata_from_youtube('raag kedar',5000)\n",
    "# data.to_csv('temp_data_extract.csv',index = False)"
   ]
  },
  {
   "cell_type": "code",
   "execution_count": null,
   "id": "6193a4a0",
   "metadata": {},
   "outputs": [],
   "source": [
    "data.to_csv('temp_data_extract.csv',index = False)"
   ]
  },
  {
   "cell_type": "code",
   "execution_count": null,
   "id": "0452f27c",
   "metadata": {},
   "outputs": [],
   "source": [
    "data['duration1'] = data['duration'].str.split(\" \").apply(lambda x : x[0]).astype('int')\n",
    "data['duration2'] = data['duration'].str.split(\" \").apply(lambda x : x[1])\n",
    "data['duration2'] = data['duration2'].map({'hour':60,'minutes':1})"
   ]
  },
  {
   "cell_type": "code",
   "execution_count": null,
   "id": "8a3c1806",
   "metadata": {},
   "outputs": [],
   "source": [
    "prepare_dataframe(details[0],details[1],details[2])"
   ]
  },
  {
   "cell_type": "code",
   "execution_count": null,
   "id": "6d596273",
   "metadata": {},
   "outputs": [],
   "source": [
    "textToSearch = 'ahir bhairav'\n",
    "textToSearch  = textToSearch.replace(\" \",\"+\")\n",
    "print('Text to Search: ',textToSearch)\n",
    "url = \"https://www.youtube.com/results?search_query={}&sp=EgIQAQ%253D%253D\".format(textToSearch)\n",
    "print(\"URL to fetch: \",url)"
   ]
  },
  {
   "cell_type": "code",
   "execution_count": null,
   "id": "3d0e1c6f",
   "metadata": {},
   "outputs": [],
   "source": []
  },
  {
   "cell_type": "code",
   "execution_count": 6,
   "id": "502770b2",
   "metadata": {},
   "outputs": [],
   "source": [
    "textToSearch = 'raag kedar'"
   ]
  },
  {
   "cell_type": "code",
   "execution_count": 8,
   "id": "c721a6c8",
   "metadata": {},
   "outputs": [],
   "source": [
    "maxheight = 10000"
   ]
  },
  {
   "cell_type": "code",
   "execution_count": 15,
   "id": "6eabbf05",
   "metadata": {},
   "outputs": [
    {
     "name": "stdout",
     "output_type": "stream",
     "text": [
      "URL to fetch:  https://www.youtube.com/results?search_query=raag kedar&sp=EgIQAQ%253D%253D\n"
     ]
    }
   ],
   "source": [
    "url = \"https://www.youtube.com/results?search_query={}&sp=EgIQAQ%253D%253D\".format(textToSearch)\n",
    "print(\"URL to fetch: \",url)\n",
    "t0 = time.time()\n",
    "driver=webdriver.Chrome()\n",
    "driver.get(url)\n",
    "height = driver.execute_script(\"return document.documentElement.scrollHeight\")\n",
    "lastheight = 0\n",
    "while True:\n",
    "    if lastheight > maxheight:\n",
    "        break\n",
    "    lastheight = height\n",
    "    driver.execute_script(\"window.scrollTo(0, \" + str(height) + \");\")\n",
    "    time.sleep(4)\n",
    "    height = driver.execute_script(\"return document.documentElement.scrollHeight\")"
   ]
  },
  {
   "cell_type": "code",
   "execution_count": null,
   "id": "062d64bf",
   "metadata": {},
   "outputs": [],
   "source": [
    "user_data = driver.find_elements_by_xpath('//*[@id=\"video-title\"]')"
   ]
  },
  {
   "cell_type": "code",
   "execution_count": 16,
   "id": "72dc4184",
   "metadata": {},
   "outputs": [],
   "source": [
    "user_data = driver.find_elements_by_xpath('//*[@id=\"text\"]/a')"
   ]
  },
  {
   "cell_type": "code",
   "execution_count": 29,
   "id": "f5274c2e",
   "metadata": {
    "scrolled": false
   },
   "outputs": [
    {
     "data": {
      "text/plain": [
       "['Indian Classical Music Boulevard',\n",
       " 'Ch-02: SANSKRITI [Arts, History, Philosophy]',\n",
       " 'Music Today',\n",
       " 'NCERT OFFICIAL',\n",
       " 'Bhimmanna',\n",
       " 'Sangeetveda1',\n",
       " 'AIR Raagam',\n",
       " 'Sargam Zone',\n",
       " 'Milind Ketkar',\n",
       " 'First Edition Arts Channel',\n",
       " 'Abhimonyu Deb',\n",
       " 'Indian Classical Music Boulevard',\n",
       " 'Indian Classical Music Boulevard',\n",
       " 'Niranjan Sarkar',\n",
       " 'Aarohan Music',\n",
       " 'mehram singh',\n",
       " 'cec',\n",
       " 'Subrata Chowdhury',\n",
       " 'Raga Rang',\n",
       " 'Kalankur Ek Sumadhur Prayas',\n",
       " 'Ulhas Kashalkar',\n",
       " 'Harmony Music Academy - Dharmanshu Raval',\n",
       " 'raag shikkha',\n",
       " 'thuryina',\n",
       " 'SIDDHANT PRUTHI',\n",
       " 'navrasrecords',\n",
       " 'Gems in Music',\n",
       " 'Pracheen Kala Kendra Official',\n",
       " 'Raju Asokan',\n",
       " 'Shivkumar Sharma - Topic',\n",
       " 'Alaap Music Academy Chennai',\n",
       " 'Indian Classical Music',\n",
       " 'N D K Rajasthani',\n",
       " 'IndianRaga',\n",
       " 'rliesky56',\n",
       " 'SswarNibedita Music Classes',\n",
       " 'Narsee Sangeet',\n",
       " 'Diwan Singh',\n",
       " 'mewadi classical bhajans MCB MUSIC',\n",
       " 'Music Today',\n",
       " 'Gopal Sangeet',\n",
       " 'Kaushiki Chakraborty',\n",
       " 'Deeps Music Classes',\n",
       " 'Sonal Diwanji Music Institute',\n",
       " 'अलंकार आलाप रियाज़',\n",
       " 'Sanchita Pandey',\n",
       " 'First Edition Arts Channel',\n",
       " 'Seeta Savitri Musical Institute',\n",
       " 'SARGAM SANGEET VIDYALAYA',\n",
       " 'Sargam Zone',\n",
       " 'BAZM-E-KHAS',\n",
       " 'Raju Asokan',\n",
       " 'Classic Cinema',\n",
       " 'Savani Events',\n",
       " 'Sawani Shende',\n",
       " 'Ardaas Production',\n",
       " 'Ankita Gawas',\n",
       " 'Madhuvanti Gurukul',\n",
       " 'राग रंजन भुआणा Raag Ranjan Bhuana',\n",
       " 'Sargam Zone',\n",
       " 'Sugnan Dani - Indian Music',\n",
       " 'Moumita Mitra',\n",
       " 'U V Kini',\n",
       " 'Prasanth Rao',\n",
       " 'Dnyanesh Limaye',\n",
       " 'Pravin Godkhindi',\n",
       " 'SswarNibedita Music Classes',\n",
       " 'Taal Matrix',\n",
       " 'Srikanth Pai',\n",
       " 'Abhay Dubey',\n",
       " 'SUR SADHNA',\n",
       " 'Srikanth Pai',\n",
       " 'Komal Nishad Classical Music',\n",
       " 'Sona Rupa',\n",
       " 'raagabasics',\n",
       " 'amaan mohd.',\n",
       " 'SATRANGEE Official',\n",
       " 'sanjeeth nayak',\n",
       " 'Neelay Mehendale']"
      ]
     },
     "execution_count": 29,
     "metadata": {},
     "output_type": "execute_result"
    }
   ],
   "source": [
    "[x.text for x in user_data][1::2]"
   ]
  },
  {
   "cell_type": "code",
   "execution_count": 22,
   "id": "d72fc1fa",
   "metadata": {},
   "outputs": [
    {
     "ename": "TypeError",
     "evalue": "'float' object cannot be interpreted as an integer",
     "output_type": "error",
     "traceback": [
      "\u001b[1;31m---------------------------------------------------------------------------\u001b[0m",
      "\u001b[1;31mTypeError\u001b[0m                                 Traceback (most recent call last)",
      "\u001b[1;32m~\\AppData\\Local\\Temp/ipykernel_19600/161783484.py\u001b[0m in \u001b[0;36m<module>\u001b[1;34m\u001b[0m\n\u001b[1;32m----> 1\u001b[1;33m \u001b[1;33m[\u001b[0m\u001b[0muser_data\u001b[0m\u001b[1;33m[\u001b[0m\u001b[1;36m2\u001b[0m\u001b[1;33m*\u001b[0m\u001b[0mx\u001b[0m\u001b[1;33m]\u001b[0m\u001b[1;33m.\u001b[0m\u001b[0mtext\u001b[0m \u001b[1;32mfor\u001b[0m \u001b[0mx\u001b[0m \u001b[1;32min\u001b[0m \u001b[0mrange\u001b[0m\u001b[1;33m(\u001b[0m\u001b[0mlen\u001b[0m\u001b[1;33m(\u001b[0m\u001b[0muser_data\u001b[0m\u001b[1;33m)\u001b[0m\u001b[1;33m/\u001b[0m\u001b[1;36m2\u001b[0m\u001b[1;33m)\u001b[0m\u001b[1;33m]\u001b[0m\u001b[1;33m\u001b[0m\u001b[1;33m\u001b[0m\u001b[0m\n\u001b[0m",
      "\u001b[1;31mTypeError\u001b[0m: 'float' object cannot be interpreted as an integer"
     ]
    }
   ],
   "source": []
  },
  {
   "cell_type": "code",
   "execution_count": null,
   "id": "eefcc936",
   "metadata": {},
   "outputs": [],
   "source": [
    "user_data[0].get_attribute('aria-label')"
   ]
  },
  {
   "cell_type": "code",
   "execution_count": null,
   "id": "03ce742b",
   "metadata": {},
   "outputs": [],
   "source": [
    "df_meta = pd.DataFrame()"
   ]
  },
  {
   "cell_type": "code",
   "execution_count": null,
   "id": "785dabd0",
   "metadata": {},
   "outputs": [],
   "source": [
    "details_list = [i.get_attribute('aria-label') for i in user_data]\n",
    "url_list = [i.get_attribute('href') for i in user_data]"
   ]
  },
  {
   "cell_type": "code",
   "execution_count": null,
   "id": "6df68e57",
   "metadata": {},
   "outputs": [],
   "source": []
  },
  {
   "cell_type": "code",
   "execution_count": null,
   "id": "bb7c95c0",
   "metadata": {
    "scrolled": false
   },
   "outputs": [],
   "source": [
    "for i in user_data:\n",
    "    print(i.get_attribute('aria-label'))\n",
    "    print(i.get_attribute('href'))\n",
    "#     link = (i.get_attribute('href'))"
   ]
  },
  {
   "cell_type": "code",
   "execution_count": null,
   "id": "4aeec964",
   "metadata": {
    "scrolled": true
   },
   "outputs": [],
   "source": [
    "for i in user_data:\n",
    "    print(i.get_attribute('title'))\n",
    "#     link = (i.get_attribute('href'))"
   ]
  },
  {
   "cell_type": "code",
   "execution_count": null,
   "id": "b977d248",
   "metadata": {},
   "outputs": [],
   "source": [
    "channel_data = driver.find_elements_by_xpath('//*[@id=\"text\"]/a')"
   ]
  },
  {
   "cell_type": "code",
   "execution_count": null,
   "id": "226675ea",
   "metadata": {},
   "outputs": [],
   "source": [
    "for p in channel_data:\n",
    "    print(p.text)"
   ]
  },
  {
   "cell_type": "code",
   "execution_count": null,
   "id": "17c03c12",
   "metadata": {},
   "outputs": [],
   "source": [
    "driver.bfind_element_by_class_name('style-scope ytd-video-meta-block').text"
   ]
  },
  {
   "cell_type": "code",
   "execution_count": null,
   "id": "ccd9afe2",
   "metadata": {},
   "outputs": [],
   "source": [
    "driver.find_element_by_tag_name('span').text"
   ]
  },
  {
   "cell_type": "code",
   "execution_count": null,
   "id": "7cc456bb",
   "metadata": {},
   "outputs": [],
   "source": [
    "views_data = driver.find_element_by_xpath('//*[@id=\"channel-name\"]')"
   ]
  },
  {
   "cell_type": "code",
   "execution_count": null,
   "id": "e926dab1",
   "metadata": {},
   "outputs": [],
   "source": [
    "views_data"
   ]
  },
  {
   "cell_type": "code",
   "execution_count": null,
   "id": "b059ac12",
   "metadata": {},
   "outputs": [],
   "source": [
    "for p in views_data:\n",
    "    print(p.text)"
   ]
  }
 ],
 "metadata": {
  "kernelspec": {
   "display_name": "Python 3 (ipykernel)",
   "language": "python",
   "name": "python3"
  },
  "language_info": {
   "codemirror_mode": {
    "name": "ipython",
    "version": 3
   },
   "file_extension": ".py",
   "mimetype": "text/x-python",
   "name": "python",
   "nbconvert_exporter": "python",
   "pygments_lexer": "ipython3",
   "version": "3.8.8"
  }
 },
 "nbformat": 4,
 "nbformat_minor": 5
}
