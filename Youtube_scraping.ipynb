{
 "cells": [
  {
   "cell_type": "code",
   "execution_count": 1,
   "id": "f45d82dd",
   "metadata": {},
   "outputs": [],
   "source": [
    "import sys, unittest, time, datetime\n",
    "import urllib.request, urllib.error, urllib.parse\n",
    "from selenium import webdriver\n",
    "from selenium.webdriver.common.by import By\n",
    "from selenium.webdriver.support.ui import WebDriverWait\n",
    "from selenium.webdriver.support import expected_conditions as EC\n",
    "from selenium.common.exceptions import InvalidArgumentException\n",
    "\n",
    "import pandas as pd\n",
    "import numpy as np\n",
    "import time\n",
    "import re\n",
    "# import logging\n",
    "# logging.basicConfig(filename='YT_scraping_log.log',level=logging.DEBUG,format='%(asctime)s.%(msecs)03d %(levelname)s %(module)s - %(funcName)s: %(message)s',datefmt='%Y-%m-%d %H:%M',)"
   ]
  },
  {
   "cell_type": "code",
   "execution_count": 2,
   "id": "5a687bd1",
   "metadata": {},
   "outputs": [],
   "source": [
    "import os"
   ]
  },
  {
   "cell_type": "code",
   "execution_count": 3,
   "id": "af68deff",
   "metadata": {},
   "outputs": [
    {
     "data": {
      "text/plain": [
       "['.git',\n",
       " '.idea',\n",
       " '.ipynb_checkpoints',\n",
       " '01_get_YT_links.ipynb',\n",
       " '01_scrape_youtube_metadata.py',\n",
       " 'GMAT Sentence correction_youtube_scrape_metadata.csv',\n",
       " 'raag malkauns_youtube_scrape_metadata.csv',\n",
       " 'sample_audio.m4a',\n",
       " 'sample_audio2.m4a',\n",
       " 'scrapeYT.py',\n",
       " 'selenium_based_scraper.py',\n",
       " 'selenium_based_scrapper2.py',\n",
       " 'temp_data_extract.csv',\n",
       " 'Untitled.ipynb',\n",
       " 'Youtube_scraping.ipynb',\n",
       " 'yTdownload',\n",
       " 'YT_scraping_log.log']"
      ]
     },
     "execution_count": 3,
     "metadata": {},
     "output_type": "execute_result"
    }
   ],
   "source": [
    "os.listdir()"
   ]
  },
  {
   "cell_type": "code",
   "execution_count": 4,
   "id": "4b4b3e3f",
   "metadata": {},
   "outputs": [],
   "source": [
    "from pydub import AudioSegment\n",
    "audio = AudioSegment.from_file('sample_audio2.m4a')"
   ]
  },
  {
   "cell_type": "code",
   "execution_count": 19,
   "id": "458e62f2",
   "metadata": {},
   "outputs": [
    {
     "data": {
      "text/plain": [
       "<property at 0x221588ea400>"
      ]
     },
     "execution_count": 19,
     "metadata": {},
     "output_type": "execute_result"
    }
   ],
   "source": [
    "AudioSegment.apply_mono_filter_to_each_channel"
   ]
  },
  {
   "cell_type": "code",
   "execution_count": 13,
   "id": "9017f148",
   "metadata": {},
   "outputs": [
    {
     "data": {
      "text/plain": [
       "<_io.BufferedRandom name='try.mp3'>"
      ]
     },
     "execution_count": 13,
     "metadata": {},
     "output_type": "execute_result"
    }
   ],
   "source": [
    "audio.export('try.mp3',format = 'mp3')"
   ]
  },
  {
   "cell_type": "code",
   "execution_count": 15,
   "id": "140cb180",
   "metadata": {},
   "outputs": [
    {
     "data": {
      "text/html": [
       "\n",
       "                    <audio controls>\n",
       "                        <source src=\"data:audio/mpeg;base64,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\" type=\"audio/mpeg\"/>\n",
       "                        Your browser does not support the audio element.\n",
       "                    </audio>\n",
       "                  "
      ],
      "text/plain": [
       "<pydub.audio_segment.AudioSegment at 0x2215c85ecd0>"
      ]
     },
     "execution_count": 15,
     "metadata": {},
     "output_type": "execute_result"
    }
   ],
   "source": [
    "audio[1000:1200]"
   ]
  },
  {
   "cell_type": "code",
   "execution_count": 6,
   "id": "1cfc1bde",
   "metadata": {},
   "outputs": [
    {
     "name": "stdout",
     "output_type": "stream",
     "text": [
      "Information:\n",
      "Channels: 2\n",
      "Bits per sample: 16\n",
      "Sampling frequency: 44100\n",
      "Length: 259.1114739229025 seconds\n"
     ]
    }
   ],
   "source": [
    "print(\"Information:\")\n",
    "print(\"Channels:\", audio.channels)\n",
    "print(\"Bits per sample:\", audio.sample_width * 8)\n",
    "print(\"Sampling frequency:\", audio.frame_rate)\n",
    "print(\"Length:\", audio.duration_seconds, \"seconds\")"
   ]
  },
  {
   "cell_type": "code",
   "execution_count": 7,
   "id": "825fc9b2",
   "metadata": {},
   "outputs": [
    {
     "ename": "AttributeError",
     "evalue": "'AudioSegment' object has no attribute 'spectrogram'",
     "output_type": "error",
     "traceback": [
      "\u001b[1;31m---------------------------------------------------------------------------\u001b[0m",
      "\u001b[1;31mAttributeError\u001b[0m                            Traceback (most recent call last)",
      "\u001b[1;32m~\\AppData\\Local\\Temp/ipykernel_18668/238809596.py\u001b[0m in \u001b[0;36m<module>\u001b[1;34m\u001b[0m\n\u001b[1;32m----> 1\u001b[1;33m \u001b[0mfreqs\u001b[0m\u001b[1;33m,\u001b[0m \u001b[0mtimes\u001b[0m\u001b[1;33m,\u001b[0m \u001b[0mamplitudes\u001b[0m \u001b[1;33m=\u001b[0m \u001b[0maudio\u001b[0m\u001b[1;33m.\u001b[0m\u001b[0mspectrogram\u001b[0m\u001b[1;33m(\u001b[0m\u001b[0mwindow_length_s\u001b[0m\u001b[1;33m=\u001b[0m\u001b[1;36m0.03\u001b[0m\u001b[1;33m,\u001b[0m \u001b[0moverlap\u001b[0m\u001b[1;33m=\u001b[0m\u001b[1;36m0.5\u001b[0m\u001b[1;33m)\u001b[0m\u001b[1;33m\u001b[0m\u001b[1;33m\u001b[0m\u001b[0m\n\u001b[0m\u001b[0;32m      2\u001b[0m \u001b[0mamplitudes\u001b[0m \u001b[1;33m=\u001b[0m \u001b[1;36m10\u001b[0m \u001b[1;33m*\u001b[0m \u001b[0mnp\u001b[0m\u001b[1;33m.\u001b[0m\u001b[0mlog10\u001b[0m\u001b[1;33m(\u001b[0m\u001b[0mamplitudes\u001b[0m \u001b[1;33m+\u001b[0m \u001b[1;36m1e-9\u001b[0m\u001b[1;33m)\u001b[0m\u001b[1;33m\u001b[0m\u001b[1;33m\u001b[0m\u001b[0m\n\u001b[0;32m      3\u001b[0m \u001b[1;31m# Plot\u001b[0m\u001b[1;33m\u001b[0m\u001b[1;33m\u001b[0m\u001b[1;33m\u001b[0m\u001b[0m\n\u001b[0;32m      4\u001b[0m \u001b[0mplt\u001b[0m\u001b[1;33m.\u001b[0m\u001b[0mpcolormesh\u001b[0m\u001b[1;33m(\u001b[0m\u001b[0mtimes\u001b[0m\u001b[1;33m,\u001b[0m \u001b[0mfreqs\u001b[0m\u001b[1;33m,\u001b[0m \u001b[0mamplitudes\u001b[0m\u001b[1;33m)\u001b[0m\u001b[1;33m\u001b[0m\u001b[1;33m\u001b[0m\u001b[0m\n\u001b[0;32m      5\u001b[0m \u001b[0mplt\u001b[0m\u001b[1;33m.\u001b[0m\u001b[0mxlabel\u001b[0m\u001b[1;33m(\u001b[0m\u001b[1;34m\"Time in Seconds\"\u001b[0m\u001b[1;33m)\u001b[0m\u001b[1;33m\u001b[0m\u001b[1;33m\u001b[0m\u001b[0m\n",
      "\u001b[1;31mAttributeError\u001b[0m: 'AudioSegment' object has no attribute 'spectrogram'"
     ]
    }
   ],
   "source": [
    "freqs, times, amplitudes = audio.spectrogram(window_length_s=0.03, overlap=0.5)\n",
    "amplitudes = 10 * np.log10(amplitudes + 1e-9)\n",
    "# Plot\n",
    "plt.pcolormesh(times, freqs, amplitudes)\n",
    "plt.xlabel(\"Time in Seconds\")\n",
    "plt.ylabel(\"Frequency in Hz\")\n",
    "plt.show()"
   ]
  },
  {
   "cell_type": "code",
   "execution_count": null,
   "id": "bf355d80",
   "metadata": {},
   "outputs": [],
   "source": [
    "def scrape_metadata_from_youtube(textToSearch = 'Ahir Bhairav',maxheight=15000):\n",
    "    textToSearch  = textToSearch.replace(\" \",\"+\")\n",
    "    print(\"Quering \",textToSearch)\n",
    "    url = \"https://www.youtube.com/results?search_query={}&sp=EgIQAQ%253D%253D\".format(textToSearch)\n",
    "    print(\"URL to fetch: \",url)\n",
    "    t0 = time.time()\n",
    "    driver=webdriver.Chrome()\n",
    "    driver.get(url)\n",
    "    height = driver.execute_script(\"return document.documentElement.scrollHeight\")\n",
    "    lastheight = 0\n",
    "    while True:\n",
    "        if lastheight > maxheight:\n",
    "            break\n",
    "        lastheight = height\n",
    "        driver.execute_script(\"window.scrollTo(0, \" + str(height) + \");\")\n",
    "        time.sleep(4)\n",
    "        height = driver.execute_script(\"return document.documentElement.scrollHeight\")\n",
    "    \n",
    "    user_data = driver.find_elements_by_xpath('//*[@id=\"video-title\"]')\n",
    "    channel_data = driver.find_elements_by_xpath('//*[@id=\"text\"]/a')\n",
    "    channel_list = [x.text for x in channel_data][1::2]\n",
    "    \n",
    "    details_list = [i.get_attribute('aria-label') for i in user_data]\n",
    "    url_list = [i.get_attribute('href') for i in user_data]\n",
    "    title_list = [i.get_attribute('title') for i in user_data]\n",
    "    logging.debug(f'Search Key: {textToSearch}')\n",
    "    logging.debug('Total Time taken:{}s'.format(time.time() - t0))\n",
    "    logging.debug('No. of Records scraped: ', len(user_data))\n",
    "    data = prepare_dataframe(title_list , details_list , url_list,channel_list)\n",
    "    return data , [title_list , details_list , url_list, channel_list]"
   ]
  },
  {
   "cell_type": "code",
   "execution_count": null,
   "id": "170dd384",
   "metadata": {},
   "outputs": [],
   "source": [
    "def prepare_dataframe(a,b,c,d):\n",
    "    df = pd.DataFrame({'urls':c,'title':a,'details':b, 'channel':d})\n",
    "    #df['duration'] = df['details'].str.extract('([0-9]* hour{1}s{0,1}| [0-9]* hour{1}s{0,1}, [0-9]* minute{1}s{0,1} |[0-9]* minute{1}s{0,1})')\n",
    "    df['ytkey'] = df['urls'].str[-11:]\n",
    "    df['hours'] = df['details'].str.extract('([0-9]*) hour{1}s{0,1}').fillna(0).astype('int')\n",
    "    df['minutes'] = df['details'].str.extract('([0-9]*) minute{1}s{0,1}').fillna(0).astype('int')\n",
    "    df['views'] = df['details'].str.extract('([0-9]*,*[0-9]*) views')\n",
    "    df['views'] = df['views'].str.replace(',',\"\").astype('int')\n",
    "    df['age_years']=df['details'].str.extract('([0-9]*) year{1}s{0,1} ago').fillna(0).astype('int')\n",
    "    df['age_months']=df['details'].str.extract('([0-9]*) month{1}s{0,1} ago').fillna(0).astype('int')\n",
    "    return df"
   ]
  },
  {
   "cell_type": "code",
   "execution_count": null,
   "id": "41c8a19b",
   "metadata": {},
   "outputs": [],
   "source": [
    "data , details = scrape_metadata_from_youtube('raag kedar',5000)\n",
    "# data.to_csv('temp_data_extract.csv',index = False)"
   ]
  },
  {
   "cell_type": "code",
   "execution_count": null,
   "id": "dca5eb2e",
   "metadata": {},
   "outputs": [],
   "source": [
    "data.head()"
   ]
  },
  {
   "cell_type": "code",
   "execution_count": null,
   "id": "6193a4a0",
   "metadata": {},
   "outputs": [],
   "source": [
    "data.to_csv('temp_data_extract.csv',index = False)"
   ]
  },
  {
   "cell_type": "markdown",
   "id": "b02dc23b",
   "metadata": {},
   "source": [
    "## Test : Ignore\n"
   ]
  },
  {
   "cell_type": "code",
   "execution_count": null,
   "id": "eefcc936",
   "metadata": {},
   "outputs": [],
   "source": [
    "user_data[0].get_attribute('aria-label')"
   ]
  },
  {
   "cell_type": "code",
   "execution_count": null,
   "id": "03ce742b",
   "metadata": {},
   "outputs": [],
   "source": [
    "df_meta = pd.DataFrame()"
   ]
  },
  {
   "cell_type": "code",
   "execution_count": null,
   "id": "785dabd0",
   "metadata": {},
   "outputs": [],
   "source": [
    "details_list = [i.get_attribute('aria-label') for i in user_data]\n",
    "url_list = [i.get_attribute('href') for i in user_data]"
   ]
  },
  {
   "cell_type": "code",
   "execution_count": null,
   "id": "bb7c95c0",
   "metadata": {
    "scrolled": false
   },
   "outputs": [],
   "source": [
    "for i in user_data:\n",
    "    print(i.get_attribute('aria-label'))\n",
    "    print(i.get_attribute('href'))\n",
    "#     link = (i.get_attribute('href'))"
   ]
  },
  {
   "cell_type": "code",
   "execution_count": null,
   "id": "4aeec964",
   "metadata": {
    "scrolled": true
   },
   "outputs": [],
   "source": [
    "for i in user_data:\n",
    "    print(i.get_attribute('title'))\n",
    "#     link = (i.get_attribute('href'))"
   ]
  },
  {
   "cell_type": "code",
   "execution_count": null,
   "id": "b977d248",
   "metadata": {},
   "outputs": [],
   "source": [
    "channel_data = driver.find_elements_by_xpath('//*[@id=\"text\"]/a')"
   ]
  },
  {
   "cell_type": "code",
   "execution_count": null,
   "id": "226675ea",
   "metadata": {},
   "outputs": [],
   "source": [
    "for p in channel_data:\n",
    "    print(p.text)"
   ]
  },
  {
   "cell_type": "code",
   "execution_count": null,
   "id": "17c03c12",
   "metadata": {},
   "outputs": [],
   "source": [
    "driver.bfind_element_by_class_name('style-scope ytd-video-meta-block').text"
   ]
  },
  {
   "cell_type": "code",
   "execution_count": null,
   "id": "ccd9afe2",
   "metadata": {},
   "outputs": [],
   "source": [
    "driver.find_element_by_tag_name('span').text"
   ]
  },
  {
   "cell_type": "code",
   "execution_count": null,
   "id": "7cc456bb",
   "metadata": {},
   "outputs": [],
   "source": [
    "views_data = driver.find_element_by_xpath('//*[@id=\"channel-name\"]')"
   ]
  },
  {
   "cell_type": "code",
   "execution_count": null,
   "id": "e926dab1",
   "metadata": {},
   "outputs": [],
   "source": [
    "views_data"
   ]
  },
  {
   "cell_type": "code",
   "execution_count": null,
   "id": "b059ac12",
   "metadata": {},
   "outputs": [],
   "source": [
    "for p in views_data:\n",
    "    print(p.text)"
   ]
  }
 ],
 "metadata": {
  "kernelspec": {
   "display_name": "Python 3 (ipykernel)",
   "language": "python",
   "name": "python3"
  },
  "language_info": {
   "codemirror_mode": {
    "name": "ipython",
    "version": 3
   },
   "file_extension": ".py",
   "mimetype": "text/x-python",
   "name": "python",
   "nbconvert_exporter": "python",
   "pygments_lexer": "ipython3",
   "version": "3.8.8"
  }
 },
 "nbformat": 4,
 "nbformat_minor": 5
}
